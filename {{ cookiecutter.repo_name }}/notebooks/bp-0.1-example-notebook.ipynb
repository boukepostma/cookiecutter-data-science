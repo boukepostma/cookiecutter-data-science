{
 "cells": [
  {
   "cell_type": "markdown",
   "source": [
    "# Example Notebook\r\n",
    "This notebook explains how to use the cookiecutter in practice.\r\n",
    "\r\n",
    "Before running this notebook, make sure that you have followed all installation instructions in the README.md succesfully."
   ],
   "metadata": {}
  },
  {
   "cell_type": "markdown",
   "source": [
    "## Importing modules "
   ],
   "metadata": {}
  },
  {
   "cell_type": "code",
   "execution_count": null,
   "source": [
    "from configs.paths import FOLDER_ROOT\r\n",
    "print(FOLDER_ROOT)"
   ],
   "outputs": [],
   "metadata": {}
  },
  {
   "cell_type": "markdown",
   "source": [
    "## Running the main function"
   ],
   "metadata": {}
  },
  {
   "cell_type": "code",
   "execution_count": null,
   "source": [
    "from main import main\r\n",
    "main()"
   ],
   "outputs": [],
   "metadata": {}
  },
  {
   "cell_type": "markdown",
   "source": [
    "## Logging\r\n",
    "Note that after running the following cell, a `logs.log` file will have appeared in the `logs` folder. Check it out!"
   ],
   "metadata": {}
  },
  {
   "cell_type": "code",
   "execution_count": null,
   "source": [
    "from logger import logger\r\n",
    "logger.info('This is an info message')\r\n",
    "logger.debug('This is an debug message')"
   ],
   "outputs": [],
   "metadata": {}
  }
 ],
 "metadata": {
  "orig_nbformat": 4,
  "language_info": {
   "name": "python",
   "version": "3.9.4",
   "mimetype": "text/x-python",
   "codemirror_mode": {
    "name": "ipython",
    "version": 3
   },
   "pygments_lexer": "ipython3",
   "nbconvert_exporter": "python",
   "file_extension": ".py"
  },
  "kernelspec": {
   "name": "python3",
   "display_name": "Python 3.9.4 64-bit ('venv': venv)"
  },
  "interpreter": {
   "hash": "815ff9a4b46664f13522056ddef3cb30d65dc98b7ddcd8c38a68c3060e448a26"
  }
 },
 "nbformat": 4,
 "nbformat_minor": 2
}